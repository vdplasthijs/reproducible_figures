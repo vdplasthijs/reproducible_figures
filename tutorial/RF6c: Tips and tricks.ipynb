{
 "cells": [
  {
   "attachments": {},
   "cell_type": "markdown",
   "metadata": {},
   "source": [
    "# Bonus 3 : Tips and tricks"
   ]
  }
 ],
 "metadata": {
  "kernelspec": {
   "display_name": "py37",
   "language": "python",
   "name": "python3"
  },
  "language_info": {
   "codemirror_mode": {
    "name": "ipython",
    "version": 3
   },
   "file_extension": ".py",
   "mimetype": "text/x-python",
   "name": "python",
   "nbconvert_exporter": "python",
   "pygments_lexer": "ipython3",
   "version": "3.7.4"
  },
  "vscode": {
   "interpreter": {
    "hash": "b3c6bff6b69abaf96a90d989026a9cf294704cfb600e1a0547450741192dbe8d"
   }
  }
 },
 "nbformat": 4,
 "nbformat_minor": 2
}
