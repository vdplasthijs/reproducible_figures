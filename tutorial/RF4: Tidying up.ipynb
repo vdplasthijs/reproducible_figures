{
 "cells": [
  {
   "attachments": {},
   "cell_type": "markdown",
   "metadata": {},
   "source": [
    "# Step 4: Tidying up\n",
    "- despine, naked\n",
    "- tick (multiplier)\n",
    "- ... "
   ]
  },
  {
   "cell_type": "code",
   "execution_count": null,
   "metadata": {},
   "outputs": [],
   "source": [
    "## use these magic commands to automatically reload modules:\n",
    "%load_ext autoreload\n",
    "%autoreload 2\n",
    "import numpy as np \n",
    "import matplotlib as mpl\n",
    "import matplotlib.pyplot as plt\n",
    "import sys\n",
    "sys.path.append('../scripts/')\n",
    "import rep_fig_vis as rfv  # package with general-purpose visualisation functions \n",
    "import tutorial_rf_functions as tut  # functions written specifically for this tutorial "
   ]
  }
 ],
 "metadata": {
  "language_info": {
   "name": "python"
  },
  "orig_nbformat": 4
 },
 "nbformat": 4,
 "nbformat_minor": 2
}
